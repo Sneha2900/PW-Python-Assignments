{
 "cells": [
  {
   "cell_type": "markdown",
   "id": "63332eec-7e05-44c1-80de-089c5e6334cd",
   "metadata": {},
   "source": [
    "                                                Function_Assignment1 \n"
   ]
  },
  {
   "cell_type": "markdown",
   "id": "118d092c-78ac-476d-a05f-ecb3487c000d",
   "metadata": {},
   "source": [
    "Q1. Which keyword is used to create a function? Create a function to return a list of odd numbers in the\n",
    "range of 1 to 25."
   ]
  },
  {
   "cell_type": "code",
   "execution_count": 1,
   "id": "29361fe3-4662-4f6c-8c42-68f8ae868444",
   "metadata": {},
   "outputs": [
    {
     "name": "stdout",
     "output_type": "stream",
     "text": [
      "[1, 3, 5, 7, 9, 11, 13, 15, 17, 19, 21, 23, 25]\n"
     ]
    }
   ],
   "source": [
    "def get_odd_numbers():\n",
    "    odd_numbers = []\n",
    "    for num in range(1, 26):\n",
    "        if num % 2 != 0:\n",
    "            odd_numbers.append(num)\n",
    "    return odd_numbers\n",
    "\n",
    "# Call the function\n",
    "result = get_odd_numbers()\n",
    "print(result)"
   ]
  },
  {
   "cell_type": "markdown",
   "id": "3adee147-fdcf-4448-a7f7-c01125a7880f",
   "metadata": {},
   "source": [
    "Q2. Why *args and **kwargs is used in some functions? Create a function each for *args and **kwargs\n",
    "to demonstrate their use."
   ]
  },
  {
   "cell_type": "markdown",
   "id": "f19e08b7-2878-4c3d-933b-ab7d4eecda4b",
   "metadata": {},
   "source": []
  },
  {
   "cell_type": "markdown",
   "id": "b87527b6-87ea-4300-9488-ab1b4d7f5fff",
   "metadata": {},
   "source": [
    "Q3. What is an iterator in python? Name the method used to initialise the iterator object and the method\n",
    "used for iteration. Use these methods to print the first five elements of the given list [2, 4, 6, 8, 10, 12, 14,\n",
    "16, 18, 20]."
   ]
  },
  {
   "cell_type": "markdown",
   "id": "82db67a8-0ddb-41db-b627-afc931465611",
   "metadata": {},
   "source": [
    "In Python, an iterator is an object that implements the iterator protocol, which consists of two methods: __iter__() and __next__()."
   ]
  },
  {
   "cell_type": "code",
   "execution_count": 2,
   "id": "d2eff8aa-cec2-47a8-90d9-2cb1fbcf2166",
   "metadata": {},
   "outputs": [
    {
     "name": "stdout",
     "output_type": "stream",
     "text": [
      "2\n",
      "4\n",
      "6\n",
      "8\n",
      "10\n"
     ]
    }
   ],
   "source": [
    "my_list = [2, 4, 6, 8, 10, 12, 14, 16, 18, 20]\n",
    "my_iterator = iter(my_list)\n",
    "\n",
    "for _ in range(5):\n",
    "    element = next(my_iterator)\n",
    "    print(element)"
   ]
  },
  {
   "cell_type": "markdown",
   "id": "bc389ba9-4e3f-4bba-84e7-83437eadda60",
   "metadata": {},
   "source": [
    "Q4. What is a generator function in python? Why yield keyword is used? Give an example of a generator function."
   ]
  },
  {
   "cell_type": "markdown",
   "id": "5a886e57-5f2c-48e6-8419-168bf8221090",
   "metadata": {},
   "source": [
    "Generator Function:- A Python generator function allows you to declare a function that behaves like an iterator, providing a faster and easier way to create iterators. They can be used on an abstract container of data to turn it into an iterable object like lists, dictionaries and strings.\n",
    "\n",
    "Yield Keyword:- The yield keyword in Python controls the flow of a generator function. This is similar to a return statement used for returning values in Python.\n",
    "\n",
    "\n",
    "Syntax:-\n",
    "         def generator_name(arg):\n",
    "             \n",
    "             \n",
    "             # statements\n",
    "                          \n",
    "             yield something"
   ]
  },
  {
   "cell_type": "code",
   "execution_count": 2,
   "id": "53991e27-fe73-40db-8498-d67700d691e2",
   "metadata": {},
   "outputs": [
    {
     "name": "stdout",
     "output_type": "stream",
     "text": [
      "0\n",
      "1\n",
      "2\n",
      "3\n",
      "4\n"
     ]
    }
   ],
   "source": [
    "def my_generator():\n",
    "    for i in range(5):\n",
    "        yield i\n",
    "        \n",
    "gen = my_generator()\n",
    "for j in gen:\n",
    "        print(j)"
   ]
  },
  {
   "cell_type": "markdown",
   "id": "f50b632b-9461-44af-b301-4b0a02c1e630",
   "metadata": {},
   "source": [
    "Q5. Create a generator function for prime numbers less than 1000. Use the next() method to print the\n",
    "first 20 prime numbers."
   ]
  },
  {
   "cell_type": "code",
   "execution_count": 3,
   "id": "f551b8c2-ce31-45e6-be6d-d3341e33b446",
   "metadata": {},
   "outputs": [
    {
     "name": "stdout",
     "output_type": "stream",
     "text": [
      "2\n",
      "3\n",
      "5\n",
      "7\n",
      "11\n",
      "13\n",
      "17\n",
      "19\n",
      "23\n",
      "29\n",
      "31\n",
      "37\n",
      "41\n",
      "43\n",
      "47\n",
      "53\n",
      "59\n",
      "61\n",
      "67\n",
      "71\n"
     ]
    }
   ],
   "source": [
    "def is_prime(n):\n",
    "    if n < 2:\n",
    "        return False\n",
    "    for i in range(2, int(n ** 0.5) + 1):\n",
    "        if n % i == 0:\n",
    "            return False\n",
    "    return True\n",
    "\n",
    "def prime_generator():\n",
    "    num = 2\n",
    "    while num < 1000:\n",
    "        if is_prime(num):\n",
    "            yield num\n",
    "        num += 1\n",
    "\n",
    "# Create a generator object\n",
    "prime_gen = prime_generator()\n",
    "\n",
    "# Print the first 20 prime numbers\n",
    "for _ in range(20):\n",
    "    prime = next(prime_gen)\n",
    "    print(prime)"
   ]
  },
  {
   "cell_type": "markdown",
   "id": "c58c5ec9-c838-45b8-b762-1288411a467a",
   "metadata": {},
   "source": [
    "Q6. Write a python program to print the first 10 Fibonacci numbers using a while loop."
   ]
  },
  {
   "cell_type": "code",
   "execution_count": 4,
   "id": "65aec0fd-11da-471d-a7e7-9b781a67dc1f",
   "metadata": {},
   "outputs": [
    {
     "name": "stdout",
     "output_type": "stream",
     "text": [
      "0\n",
      "1\n",
      "1\n",
      "2\n",
      "3\n",
      "5\n",
      "8\n",
      "13\n",
      "21\n",
      "34\n"
     ]
    }
   ],
   "source": [
    "num1, num2 = 0, 1\n",
    "\n",
    "# Counter to keep track of the number of Fibonacci numbers printed\n",
    "count = 0\n",
    "\n",
    "# Print the Fibonacci numbers using a while loop\n",
    "while count < 10:\n",
    "    print(num1)\n",
    "    num1, num2 = num2, num1 + num2\n",
    "    count += 1"
   ]
  },
  {
   "cell_type": "markdown",
   "id": "0383bbbb-ac80-45fe-bc8c-0d72d95b45e9",
   "metadata": {},
   "source": [
    "Q7. Write a List Comprehension to iterate through the given string: ‘pwskills’.\n",
    "Expected output: ['p', 'w', 's', 'k', 'i', 'l', 'l', 's']"
   ]
  },
  {
   "cell_type": "code",
   "execution_count": 5,
   "id": "de85240d-425f-4dca-8732-5e8fe132e1c5",
   "metadata": {},
   "outputs": [
    {
     "name": "stdout",
     "output_type": "stream",
     "text": [
      "['p', 'w', 's', 'k', 'i', 'l', 'l', 's']\n"
     ]
    }
   ],
   "source": [
    "string = 'pwskills'\n",
    "result = [char for char in string]\n",
    "print(result)\n"
   ]
  },
  {
   "cell_type": "markdown",
   "id": "21316865-8041-48fc-b613-a36e3b2a5611",
   "metadata": {},
   "source": [
    "Q8. Write a python program to check whether a given number is Palindrome or not using a while loop."
   ]
  },
  {
   "cell_type": "code",
   "execution_count": 6,
   "id": "a49ac54c-6255-4aea-aaf1-988050f714a6",
   "metadata": {},
   "outputs": [
    {
     "name": "stdout",
     "output_type": "stream",
     "text": [
      "12321 is a palindrome\n",
      "45678 is not a palindrome\n"
     ]
    }
   ],
   "source": [
    "def is_palindrome(number):\n",
    "    # Store the original number for later comparison\n",
    "    original_number = number\n",
    "\n",
    "    # Reverse the number using a while loop\n",
    "    reverse = 0\n",
    "    while number > 0:\n",
    "        digit = number % 10\n",
    "        reverse = reverse * 10 + digit\n",
    "        number = number // 10\n",
    "\n",
    "    # Check if the reversed number is equal to the original number\n",
    "    if original_number == reverse:\n",
    "        return True\n",
    "    else:\n",
    "        return False\n",
    "\n",
    "# Test the program with different numbers\n",
    "number1 = 12321\n",
    "number2 = 45678\n",
    "\n",
    "if is_palindrome(number1):\n",
    "    print(number1, \"is a palindrome\")\n",
    "else:\n",
    "    print(number1, \"is not a palindrome\")\n",
    "\n",
    "if is_palindrome(number2):\n",
    "    print(number2, \"is a palindrome\")\n",
    "else:\n",
    "    print(number2, \"is not a palindrome\")\n"
   ]
  },
  {
   "cell_type": "markdown",
   "id": "57b979e0-16a2-4380-8411-11805bb5f07d",
   "metadata": {},
   "source": [
    "Q9. Write a code to print odd numbers from 1 to 100 using list comprehension."
   ]
  },
  {
   "cell_type": "code",
   "execution_count": 7,
   "id": "69230d10-11e3-4d78-ac42-cb488abdcb16",
   "metadata": {},
   "outputs": [
    {
     "name": "stdout",
     "output_type": "stream",
     "text": [
      "[1, 3, 5, 7, 9, 11, 13, 15, 17, 19, 21, 23, 25, 27, 29, 31, 33, 35, 37, 39, 41, 43, 45, 47, 49, 51, 53, 55, 57, 59, 61, 63, 65, 67, 69, 71, 73, 75, 77, 79, 81, 83, 85, 87, 89, 91, 93, 95, 97, 99]\n"
     ]
    }
   ],
   "source": [
    "odd_numbers = [num for num in range(1, 101) if num % 2 != 0]\n",
    "print(odd_numbers)"
   ]
  },
  {
   "cell_type": "code",
   "execution_count": null,
   "id": "36972e66-aba8-4b76-bad9-13311e95ad2a",
   "metadata": {},
   "outputs": [],
   "source": []
  }
 ],
 "metadata": {
  "kernelspec": {
   "display_name": "Python 3 (ipykernel)",
   "language": "python",
   "name": "python3"
  },
  "language_info": {
   "codemirror_mode": {
    "name": "ipython",
    "version": 3
   },
   "file_extension": ".py",
   "mimetype": "text/x-python",
   "name": "python",
   "nbconvert_exporter": "python",
   "pygments_lexer": "ipython3",
   "version": "3.10.8"
  }
 },
 "nbformat": 4,
 "nbformat_minor": 5
}
