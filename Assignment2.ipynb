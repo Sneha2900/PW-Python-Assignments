{
 "cells": [
  {
   "cell_type": "markdown",
   "id": "4becba23-2efc-4290-91eb-266cfca982e4",
   "metadata": {},
   "source": [
    "1. How do you comment code in Python? What are the different types of comments?"
   ]
  },
  {
   "cell_type": "code",
   "execution_count": 1,
   "id": "48de2631-54fa-46c5-b7d4-1ccd9d713be7",
   "metadata": {},
   "outputs": [
    {
     "name": "stdout",
     "output_type": "stream",
     "text": [
      "Hello, World!\n",
      "Hello, World!\n"
     ]
    }
   ],
   "source": [
    "# This is a single-line comment\n",
    "print(\"Hello, World!\")  \n",
    "\n",
    "\"\"\"\n",
    "This is a multi-line comment.\n",
    "It can span across multiple lines.\n",
    "\"\"\"\n",
    "print(\"Hello, World!\")"
   ]
  },
  {
   "cell_type": "markdown",
   "id": "878de501-a20d-40a6-844d-236cce32dafd",
   "metadata": {},
   "source": [
    "2. What are variables in Python? How do you declare and assign values to variables?"
   ]
  },
  {
   "cell_type": "code",
   "execution_count": 3,
   "id": "ccfb1a2a-84fe-4aa3-b138-997ce1ae479a",
   "metadata": {},
   "outputs": [],
   "source": [
    "x = 10\n",
    "name = \"Sneha\"\n",
    "is_active = True\n",
    "\n",
    "# Assigning a value to multiple variables in a single line\n",
    "a, b, c = 1, 2, 3\n",
    "\n",
    "# Assigning the result of an expression to a variable\n",
    "sum_result = 5 + 3\n",
    "\n",
    "# Assigning a value to a variable using another variable\n",
    "y = x\n",
    "\n",
    "# Assigning a value to a variable with a floating-point number\n",
    "pi = 3.14159\n",
    "\n",
    "# Assigning a value to a variable with a string\n",
    "greeting = \"Hello, World!\""
   ]
  },
  {
   "cell_type": "markdown",
   "id": "d5bf1539-2311-4044-9a53-89e991593af4",
   "metadata": {},
   "source": [
    "3. How do you convert one data type to another in Python?"
   ]
  },
  {
   "cell_type": "code",
   "execution_count": 8,
   "id": "39bda05b-3145-4b9a-a28e-74d9058a52cd",
   "metadata": {},
   "outputs": [
    {
     "name": "stdout",
     "output_type": "stream",
     "text": [
      "Converts a float to an integer:  3\n",
      "Converts an integer to a float:  5.0\n",
      "Converts an integer to a string:  42\n",
      "Converts a tuple to a list: numbers:  [1, 2, 3]\n",
      "Converts a list to a tuple: names:  ('Alice', 'Bob', 'Charlie')\n",
      "Converts a list to a set:  {1, 2, 3}\n",
      "Converts keyword arguments to a dictionary:  {'name': 'John', 'age': 30}\n"
     ]
    }
   ],
   "source": [
    "x = int(3.14)  \n",
    "print(\"Converts a float to an integer: \", x)\n",
    "\n",
    "y = float(5)  \n",
    "print('Converts an integer to a float: ', y)\n",
    "\n",
    "z = str(42) \n",
    "print(\"Converts an integer to a string: \", z)\n",
    "\n",
    "numbers = list((1, 2, 3)) \n",
    "print(\"Converts a tuple to a list: numbers: \", numbers)\n",
    "\n",
    "names = tuple([\"Alice\", \"Bob\", \"Charlie\"]) \n",
    "print(\"Converts a list to a tuple: names: \", names)\n",
    "\n",
    "unique_numbers = set([1, 2, 3, 1, 2]) \n",
    "print(\"Converts a list to a set: \", unique_numbers)\n",
    "\n",
    "person = dict(name=\"John\", age=30) \n",
    "print(\"Converts keyword arguments to a dictionary: \", person)"
   ]
  },
  {
   "cell_type": "markdown",
   "id": "102b750b-e613-4387-b535-340da78b4401",
   "metadata": {},
   "source": [
    "4. How do you write and execute a Python script from the command line?"
   ]
  },
  {
   "cell_type": "code",
   "execution_count": null,
   "id": "19902168-97c5-4504-b148-edd36104dfce",
   "metadata": {},
   "outputs": [],
   "source": []
  },
  {
   "cell_type": "markdown",
   "id": "7c4d0154-6634-4470-9eb8-16ee6ec86ff9",
   "metadata": {},
   "source": [
    "5. Given a list my_list = [1, 2, 3, 4, 5], write the code to slice the list and obtain the sub-list [2, 3]."
   ]
  },
  {
   "cell_type": "code",
   "execution_count": 9,
   "id": "a3ecea69-dca8-4a10-8326-617a063030c3",
   "metadata": {},
   "outputs": [
    {
     "name": "stdout",
     "output_type": "stream",
     "text": [
      "[2, 3]\n"
     ]
    }
   ],
   "source": [
    "my_list = [1, 2, 3, 4, 5]\n",
    "sub_list = my_list[1:3]\n",
    "print(sub_list)"
   ]
  },
  {
   "cell_type": "markdown",
   "id": "f1b6cddb-9b19-4622-aab3-59fedec12b19",
   "metadata": {},
   "source": [
    "6. What is a complex number in mathematics, and how is it represented in Python?"
   ]
  },
  {
   "cell_type": "code",
   "execution_count": 14,
   "id": "724af1bc-afa5-4e25-b036-6252e91eae9e",
   "metadata": {},
   "outputs": [
    {
     "name": "stdout",
     "output_type": "stream",
     "text": [
      "In mathematics, a complex number is a number that can be expressed in the form a + bi, where a and b are real numbers, and i is the imaginary unit, defined as the square root of -1. \n",
      "In Python, complex numbers are a built-in data type that allows you to work with complex numbers directly. In Python, the imaginary unit i is represented by the letter j.\n",
      "(6+1j)\n",
      "(14+8j)\n"
     ]
    }
   ],
   "source": [
    "print(\"\"\"In mathematics, a complex number is a number that can be expressed in the form a + bi, where a and b are real numbers, and i is the imaginary unit, defined as the square root of -1. \"\"\")\n",
    "print('In Python, complex numbers are a built-in data type that allows you to work with complex numbers directly. In Python, the imaginary unit i is represented by the letter j.')\n",
    "\n",
    "a = 2 + 3j\n",
    "b = 4 - 2j\n",
    "\n",
    "# Addition of complex numbers\n",
    "c = a + b\n",
    "print(c) \n",
    "# Multiplication of complex numbers\n",
    "d = a * b\n",
    "print(d) "
   ]
  },
  {
   "cell_type": "markdown",
   "id": "ef7f82ab-51bb-42dc-9c84-6ed6b5cf37a1",
   "metadata": {},
   "source": [
    "7. What is the correct way to declare a variable named age and assign the value 25 to it?"
   ]
  },
  {
   "cell_type": "code",
   "execution_count": 15,
   "id": "576af125-5a73-44ef-83e9-7576cd6c70d5",
   "metadata": {},
   "outputs": [
    {
     "name": "stdout",
     "output_type": "stream",
     "text": [
      "25\n"
     ]
    }
   ],
   "source": [
    "age = 25\n",
    "print(age)"
   ]
  },
  {
   "cell_type": "markdown",
   "id": "4e1ed354-6bc3-4607-ad1f-cb38f2e71251",
   "metadata": {},
   "source": [
    "8. Declare a variable named price and assign the value 9.99 to it. What data type does this variable\n",
    "belong to?"
   ]
  },
  {
   "cell_type": "code",
   "execution_count": 16,
   "id": "840dfc11-80ca-474f-b01d-ad16c220c3ed",
   "metadata": {},
   "outputs": [
    {
     "name": "stdout",
     "output_type": "stream",
     "text": [
      "9.99\n",
      "<class 'float'>\n"
     ]
    }
   ],
   "source": [
    "price=9.99\n",
    "print(price)\n",
    "print(type(price))"
   ]
  },
  {
   "cell_type": "markdown",
   "id": "b91d9940-2149-4171-baa5-7e6b4c9591ce",
   "metadata": {},
   "source": [
    "9. Create a variable named name and assign your full name to it as a string. How would you print the\n",
    "value of this variable?"
   ]
  },
  {
   "cell_type": "code",
   "execution_count": 18,
   "id": "f45d129d-6f6d-46c5-a39f-31ab1f20a185",
   "metadata": {},
   "outputs": [
    {
     "name": "stdout",
     "output_type": "stream",
     "text": [
      "Sneha Sharma\n"
     ]
    }
   ],
   "source": [
    "name = \"Sneha Sharma\"\n",
    "print(name)"
   ]
  },
  {
   "cell_type": "markdown",
   "id": "5619545f-ab38-4d02-9179-c873a6ee56c0",
   "metadata": {},
   "source": [
    "10. Given the string \"Hello, World!\", extract the substring \"World\"."
   ]
  },
  {
   "cell_type": "code",
   "execution_count": 19,
   "id": "73d210f0-1103-49fa-8ae5-65aee1061fb4",
   "metadata": {},
   "outputs": [
    {
     "name": "stdout",
     "output_type": "stream",
     "text": [
      "World\n"
     ]
    }
   ],
   "source": [
    "string = \"Hello, World!\"\n",
    "substring = string[7:12]\n",
    "print(substring)"
   ]
  },
  {
   "cell_type": "markdown",
   "id": "73be776a-ecb4-41ee-a923-6cf15e01d8ac",
   "metadata": {},
   "source": [
    "11. Create a variable named \"is_student\" and assign it a boolean value indicating whether you are\n",
    "currently a student or not."
   ]
  },
  {
   "cell_type": "code",
   "execution_count": 22,
   "id": "6966eb62-801f-4433-adb8-261257aceb3c",
   "metadata": {},
   "outputs": [
    {
     "name": "stdout",
     "output_type": "stream",
     "text": [
      "True Yes i am a student\n",
      "False No i am not student\n"
     ]
    }
   ],
   "source": [
    "is_student = True\n",
    "print(is_student, \"Yes i am a student\")\n",
    "\n",
    "is_student = False\n",
    "print(is_student, \"No i am not student\")"
   ]
  },
  {
   "cell_type": "code",
   "execution_count": null,
   "id": "4eff1219-e4bf-4434-8196-979e278ec76c",
   "metadata": {},
   "outputs": [],
   "source": []
  }
 ],
 "metadata": {
  "kernelspec": {
   "display_name": "Python 3 (ipykernel)",
   "language": "python",
   "name": "python3"
  },
  "language_info": {
   "codemirror_mode": {
    "name": "ipython",
    "version": 3
   },
   "file_extension": ".py",
   "mimetype": "text/x-python",
   "name": "python",
   "nbconvert_exporter": "python",
   "pygments_lexer": "ipython3",
   "version": "3.10.8"
  }
 },
 "nbformat": 4,
 "nbformat_minor": 5
}
