{
 "cells": [
  {
   "cell_type": "markdown",
   "id": "762e32b8-a4f5-4fd2-8370-0cf8663d70f9",
   "metadata": {},
   "source": [
    "1. Create one variable containing following type of data:\n",
    "(i) string\n",
    "(ii) list\n",
    "(iii) float\n",
    "(iv) tuple"
   ]
  },
  {
   "cell_type": "code",
   "execution_count": 19,
   "id": "d6fabb6a-4e60-496b-ac3a-277bc6822088",
   "metadata": {},
   "outputs": [
    {
     "name": "stdout",
     "output_type": "stream",
     "text": [
      "Python is a programming language\n"
     ]
    }
   ],
   "source": [
    "string1 = \"Python is a programming language\"\n",
    "print(string1)"
   ]
  },
  {
   "cell_type": "markdown",
   "id": "a03501bb-0156-453a-9b2b-44488df1841e",
   "metadata": {},
   "source": [
    "2. Given are some following variables containing data:\n",
    "(i) var1 = ‘ ‘\n",
    "(ii) var2 = ‘[ DS , ML , Python]’\n",
    "(iii) var3 = [ ‘DS’ , ’ML’ , ‘Python’ ]\n",
    "(iv) var4 = 1.\n",
    "\n",
    "\n",
    "What will be the data type of the above given variable."
   ]
  },
  {
   "cell_type": "code",
   "execution_count": 7,
   "id": "a0d4bccd-5609-4d2e-96b7-cf833385a06a",
   "metadata": {},
   "outputs": [
    {
     "name": "stdout",
     "output_type": "stream",
     "text": [
      "\n",
      "<class 'str'>\n",
      "[ DS , ML , Python]\n",
      "<class 'str'>\n",
      "['DS', 'ML', 'Python']\n",
      "<class 'list'>\n",
      "1\n",
      "<class 'int'>\n"
     ]
    }
   ],
   "source": [
    "var1 = ''\n",
    "print(var1)\n",
    "print(type(var1)) \n",
    "\n",
    "var2 = '[ DS , ML , Python]'\n",
    "print(var2)\n",
    "print(type(var2))\n",
    "\n",
    "var3 = ['DS', 'ML', 'Python']\n",
    "print(var3)\n",
    "print(type(var3))\n",
    "\n",
    "var4 = 1\n",
    "print(var4)\n",
    "print(type(var4))"
   ]
  },
  {
   "cell_type": "markdown",
   "id": "5ebd187b-a13c-4ed3-b096-2cd4d043ce7c",
   "metadata": {},
   "source": [
    "3. Explain the use of the following operators using an example:\n",
    "(i) /\n",
    "(ii) %\n",
    "(iii) //\n",
    "(iv) **"
   ]
  },
  {
   "cell_type": "code",
   "execution_count": 1,
   "id": "4bdf7d47-d190-457e-9387-98d6334b24c9",
   "metadata": {},
   "outputs": [
    {
     "name": "stdout",
     "output_type": "stream",
     "text": [
      "4.0\n",
      "1\n",
      "7\n",
      "32\n"
     ]
    }
   ],
   "source": [
    "x = 12\n",
    "y = 3\n",
    "print(x / y)\n",
    "\n",
    "x = 5\n",
    "y = 2\n",
    "print(x % y)\n",
    "\n",
    "x = 15\n",
    "y = 2\n",
    "print(x // y)\n",
    "\n",
    "x = 2\n",
    "y = 5\n",
    "print(x ** y)"
   ]
  },
  {
   "cell_type": "markdown",
   "id": "88163950-eac6-40f0-8e32-c80f4bfa258b",
   "metadata": {},
   "source": [
    "4. Create a list of length 10 of your choice containing multiple types of data. Using for loop print the\n",
    "element and its data type."
   ]
  },
  {
   "cell_type": "code",
   "execution_count": 4,
   "id": "891ed938-00bf-49ef-9dd6-eecc6bfa3993",
   "metadata": {},
   "outputs": [
    {
     "name": "stdout",
     "output_type": "stream",
     "text": [
      "1\n",
      "<class 'int'>\n",
      "2\n",
      "<class 'int'>\n",
      "3.14\n",
      "<class 'float'>\n",
      "Sneha\n",
      "<class 'str'>\n",
      "[3, 4, 5]\n",
      "<class 'list'>\n",
      "Sharma\n",
      "<class 'str'>\n",
      "(4+5j)\n",
      "<class 'complex'>\n",
      "29.6\n",
      "<class 'float'>\n",
      "PWSKILLS\n",
      "<class 'str'>\n",
      "29\n",
      "<class 'int'>\n"
     ]
    }
   ],
   "source": [
    "my_list = [1, 2, 3.14, \"Sneha\", [3,4,5], \"Sharma\", 4+5j, 29.6, \"PWSKILLS\", 29]\n",
    "\n",
    "for l1 in my_list:\n",
    "    print(l1)\n",
    "    print(type(l1))"
   ]
  },
  {
   "cell_type": "markdown",
   "id": "c769f3ba-5a25-44ad-a104-3fe76bf697d5",
   "metadata": {},
   "source": [
    "5. Using a while loop, verify if the number A is purely divisible by number B and if so then how many\n",
    "times it can be divisible.\n"
   ]
  },
  {
   "cell_type": "code",
   "execution_count": 1,
   "id": "12ae5e5c-f6dc-4440-bef0-cfe3e002e628",
   "metadata": {},
   "outputs": [
    {
     "name": "stdout",
     "output_type": "stream",
     "text": [
      "3 is divisible by 4 and it can be divided 1 times.\n"
     ]
    }
   ],
   "source": [
    "A = 12\n",
    "B = 4\n",
    "\n",
    "count = 0  \n",
    "while A % B == 0:\n",
    "    A = A // B \n",
    "    count += 1  \n",
    "if count > 0:\n",
    "    print(f\"{A} is divisible by {B} and it can be divided {count} times.\")\n",
    "else:\n",
    "    print(f\"{A} is not divisible by {B}.\")"
   ]
  },
  {
   "cell_type": "markdown",
   "id": "a4cacecd-9f63-45e8-b57e-77679dd8bc0f",
   "metadata": {},
   "source": [
    "6. Create a list containing 25 int type data. Using for loop and if-else condition print if the element is\n",
    "divisible by 3 or not."
   ]
  },
  {
   "cell_type": "code",
   "execution_count": 10,
   "id": "2f7f27ed-f99e-4c0a-afaf-0f9337b919eb",
   "metadata": {},
   "outputs": [
    {
     "name": "stdout",
     "output_type": "stream",
     "text": [
      "2 is not divisible by 3.\n",
      "9 is divisible by 3.\n",
      "17 is not divisible by 3.\n",
      "4 is not divisible by 3.\n",
      "27 is divisible by 3.\n",
      "33 is divisible by 3.\n",
      "10 is not divisible by 3.\n",
      "8 is not divisible by 3.\n",
      "14 is not divisible by 3.\n",
      "21 is divisible by 3.\n",
      "5 is not divisible by 3.\n",
      "12 is divisible by 3.\n",
      "19 is not divisible by 3.\n",
      "22 is not divisible by 3.\n",
      "1 is not divisible by 3.\n",
      "15 is divisible by 3.\n",
      "11 is not divisible by 3.\n",
      "7 is not divisible by 3.\n",
      "25 is not divisible by 3.\n",
      "36 is divisible by 3.\n",
      "30 is divisible by 3.\n",
      "16 is not divisible by 3.\n",
      "20 is not divisible by 3.\n",
      "3 is divisible by 3.\n",
      "6 is divisible by 3.\n"
     ]
    }
   ],
   "source": [
    "numbers = [2, 9, 17, 4, 27, 33, 10, 8, 14, 21, 5, 12, 19, 22, 1, 15, 11, 7, 25, 36, 30, 16, 20, 3, 6]\n",
    "\n",
    "for number in numbers:\n",
    "    if number % 3 == 0:\n",
    "        print(f\"{number} is divisible by 3.\")\n",
    "    else:\n",
    "        print(f\"{number} is not divisible by 3.\")\n"
   ]
  },
  {
   "cell_type": "markdown",
   "id": "418d15fa-7a24-4ce0-936f-47c6683b5914",
   "metadata": {},
   "source": [
    "7. What do you understand about mutable and immutable data types? Give examples for both showing\n",
    "this property.\n"
   ]
  },
  {
   "cell_type": "markdown",
   "id": "f6bb4512-1f2c-4acb-92ec-e8b20db5ea50",
   "metadata": {},
   "source": [
    "Ans. Mutable :- An object that allows you to change its values without changing its identity is a mutable object.\n",
    "       Some of the mutable data types in Python are list, dictionary, set.\n",
    "     Immutable :- An object that doesn’t allow changes in its value is an immutable object.\n",
    "       Some of the immutable data types are int, float, decimal, bool, string, tuple, and range."
   ]
  },
  {
   "cell_type": "code",
   "execution_count": 16,
   "id": "5f22202c-4e46-47f6-8e1b-fc6d7e55101b",
   "metadata": {},
   "outputs": [
    {
     "name": "stdout",
     "output_type": "stream",
     "text": [
      "MUTABLE DATA TYPE\n",
      "LIST\n",
      "[1, 2, 5, 4]\n",
      "DICTIONARY\n",
      "{'name': 'John', 'age': 31}\n",
      "SET\n",
      "{1, 2, 3, 4}\n",
      "IMMUTABLE DATA TYPE\n",
      "The memory address of int before updating:  139911630210032\n",
      "The memory address of int after updating:  139911630210352\n"
     ]
    }
   ],
   "source": [
    "# MUTABLE DATA TYPE\n",
    "print('MUTABLE DATA TYPE')\n",
    "\n",
    "# LIST\n",
    "my_list = [1, 2, 3, 4]\n",
    "my_list[2] = 5 \n",
    "print(\"LIST\")\n",
    "print(my_list) \n",
    "\n",
    "# DICTIONARY\n",
    "my_dict = {\"name\": \"John\", \"age\": 30}\n",
    "my_dict[\"age\"] = 31  \n",
    "print(\"DICTIONARY\")\n",
    "print(my_dict)\n",
    "\n",
    "# SET\n",
    "my_set = {1, 2, 3}\n",
    "my_set.add(4) \n",
    "print('SET')\n",
    "print(my_set) \n",
    "\n",
    "\n",
    "# IMMUTABLE DATA TYPE\n",
    "print('IMMUTABLE DATA TYPE')\n",
    "\n",
    "\n",
    "int_ = 25  \n",
    "print('The memory address of int before updating: ', id(int_))  \n",
    "int_ = 35  \n",
    "print('The memory address of int after updating: ', id(int_)) "
   ]
  },
  {
   "cell_type": "code",
   "execution_count": null,
   "id": "a425d190-3666-45bc-990f-03777558b240",
   "metadata": {},
   "outputs": [],
   "source": []
  }
 ],
 "metadata": {
  "kernelspec": {
   "display_name": "Python 3 (ipykernel)",
   "language": "python",
   "name": "python3"
  },
  "language_info": {
   "codemirror_mode": {
    "name": "ipython",
    "version": 3
   },
   "file_extension": ".py",
   "mimetype": "text/x-python",
   "name": "python",
   "nbconvert_exporter": "python",
   "pygments_lexer": "ipython3",
   "version": "3.11.3"
  }
 },
 "nbformat": 4,
 "nbformat_minor": 5
}
